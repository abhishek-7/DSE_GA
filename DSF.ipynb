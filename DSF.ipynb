{
 "cells": [
  {
   "cell_type": "code",
   "execution_count": 68,
   "metadata": {},
   "outputs": [
    {
     "name": "stdout",
     "output_type": "stream",
     "text": [
      "\n"
     ]
    }
   ],
   "source": [
    "import numpy as np\n",
    "import pandas as pd\n",
    "import os\n",
    "import math\n",
    "import random\n",
    "\n",
    "from sklearn.model_selection import train_test_split\n",
    "from sklearn.model_selection import KFold\n",
    "from sklearn.model_selection import cross_val_score\n",
    "from operator import itemgetter\n",
    "\n",
    "from sklearn import metrics\n",
    "from sklearn.metrics import precision_score\n",
    "from sklearn.metrics import roc_auc_score\n",
    "from sklearn.metrics import confusion_matrix\n",
    "from sklearn.metrics import recall_score\n",
    "from sklearn.metrics import accuracy_score\n",
    "from sklearn.metrics import f1_score\n",
    "\n",
    "from sklearn.ensemble import RandomForestClassifier\n"
   ]
  },
  {
   "cell_type": "code",
   "execution_count": 69,
   "metadata": {},
   "outputs": [],
   "source": [
    "mutationRate = 0.001\n",
    "crossOverRate = 0.06\n",
    "iterations = 10\n",
    "poolSize = 50"
   ]
  },
  {
   "cell_type": "code",
   "execution_count": 130,
   "metadata": {},
   "outputs": [],
   "source": [
    "#Defining functions for genetic algorithms\n",
    "\n",
    "def roulette(fitnessArray):\n",
    "    index = 0\n",
    "    cumalativeFitness = 0.0\n",
    "    r = random.random()\n",
    "    \n",
    "    for i in range(len(fitnessArray)):\n",
    "        cumalativeFitness += fitnessArray[i]\n",
    "        if cumalativeFitness > r:\n",
    "            return i\n",
    "\n",
    "\n",
    "def selectFittest(fitness, rankedPool):\n",
    "    while True:\n",
    "        idx1 = roulette(fitness)\n",
    "        idx2 = roulette(fitness)\n",
    "        \n",
    "        if idx1 is None or idx2 is None:\n",
    "            continue\n",
    "        elif idx1==idx2:\n",
    "            continue\n",
    "        else:\n",
    "            break\n",
    "    \n",
    "    return rankedPool[idx1], rankedPool[idx2]\n",
    "\n",
    "def crossover(chromosome1, chromosome2):\n",
    "    randomSplitPoint = random.randint(1, len(chromosome1))\n",
    "    print randomSplitPoint,chromosome1,chromosome2\n",
    "    return np.concatenate(chromosome1[:randomSplitPoint]+chromosome2[randomSplitPoint:]), np.concatenate(chromosome2[:randomSplitPoint]+chromosome1[randomSplitPoint:])\n",
    "\n",
    "\n",
    "def mutate(chromosome):\n",
    "\n",
    "    mutatedChrom = []\n",
    "    for ch in chromosome:\n",
    "        if random.random()<mutationRate:\n",
    "            if ch==1:\n",
    "                mutatedChrom.append(0)\n",
    "            else:\n",
    "                mutatedChrom.append(1)\n",
    "        else:\n",
    "            mutatedChrom.append(ch)\n",
    "    return mutatedChrom\n",
    "    \n",
    "def breed(chrome1, chrome2):\n",
    "    if random.random()<crossOverRate:\n",
    "        newChrome1, newChrome2 = crossover(chrome1, chrome2)\n",
    "    else:\n",
    "        newChrome1 = chrome1\n",
    "        newChrome2 = chrome2\n",
    "        \n",
    "    newChrome1 = mutate(newChrome1)\n",
    "    newChrome2 = mutate(newChrome2)\n",
    "    \n",
    "    return newChrome1, newChrome2"
   ]
  },
  {
   "cell_type": "code",
   "execution_count": 131,
   "metadata": {},
   "outputs": [],
   "source": [
    "def rankPop(pool, X, y, classifier,fitnessFunction):\n",
    "    scores = []\n",
    "    for chromosome in pool:\n",
    "        classifier = RandomForestClassifier()\n",
    "        chosen_idx = [idx for gene, idx in zip(chromosome, range(X.shape[1])) if gene==1]\n",
    "        if len(chosen_idx)==0:\n",
    "            continue\n",
    "        chosenX = X.iloc[:, chosen_idx]\n",
    "        #performing leave-one out validation for instances less than 100\n",
    "        #and 10 fold validation for others\n",
    "        npoints = X.shape[0]\n",
    "   \n",
    "        if npoints <= 100:\n",
    "            kf = KFold(n_splits = npoints)\n",
    "        else:\n",
    "            kf = KFold(n_splits = 10)\n",
    "        \n",
    "        kf.get_n_splits(X)\n",
    "        classifier.fit(chosenX, y)\n",
    "        train_X = []\n",
    "        train_Y  = []\n",
    "        prediction   = []\n",
    "        predict_prob = []\n",
    "        chosenX = np.array(chosenX)\n",
    "        Y = np.array(y)\n",
    "        for train_index, test_index in kf.split(X):\n",
    "            classifier = RandomForestClassifier()\n",
    "            for i in train_index:\n",
    "                train_X.append(chosenX[i])\n",
    "                train_Y.append(Y[i])\n",
    "\n",
    "            classifier.fit(train_X, train_Y)\n",
    "            for j in test_index:\n",
    "                prediction.append(classifier.predict([chosenX[j]])[0])\n",
    "                predict_prob.append(classifier.predict_proba([chosenX[j]])[0][1])\n",
    "            train_X  = []\n",
    "            train_Y  = []\n",
    "        \n",
    "   \n",
    "        if(fitnessFunction == 'f-measure'):\n",
    "            scores.append(f1_score(y_true=y,y_pred=prediction))\n",
    "        elif(fitnessFunction == 'g-mean'):\n",
    "            gScore = math.sqrt(precision_score(y_true = y, y_pred=prediction)*recall_score(y_true = y, y_pred =prediction ))\n",
    "            scores.append(gscore)\n",
    "        elif(fitnessFunction == 'accuracy'):\n",
    "            scores.append(accuracy_score(y_true = y, y_pred = prediction))\n",
    "        \n",
    "    fitness = [x/sum(scores) for x in scores]\n",
    "    pairedPop = zip(pool, fitness)\n",
    "    rankedPop = sorted(pairedPop, key=itemgetter(-1), reverse = True)\n",
    "    \n",
    "    return rankedPop"
   ]
  },
  {
   "cell_type": "code",
   "execution_count": 132,
   "metadata": {},
   "outputs": [],
   "source": [
    "def iteratePop(rankedPop):\n",
    "    fitness = [item[-1] for item in rankedPop]\n",
    "    rankedPool = [item[0] for item in rankedPop]\n",
    "   \n",
    "    new_pool = []\n",
    "    new_pool.extend(rankedPool[:poolSize/15])\n",
    "    \n",
    "    while(len(new_pool)<poolSize):\n",
    "        ch1, ch2 = selectFittest(fitness, rankedPool)\n",
    "        ch1, ch2 = breed(ch1, ch2)\n",
    "        \n",
    "        new_pool.append(ch1)\n",
    "        new_pool.append(ch2)\n",
    "    \n",
    "    return new_pool[:poolSize]"
   ]
  },
  {
   "cell_type": "code",
   "execution_count": 133,
   "metadata": {},
   "outputs": [],
   "source": [
    "def geneticAlgoFit(datafile):\n",
    "    datafile = pd.read_csv(datafile, dtype={'buggy':np.bool})\n",
    "    X     = datafile.iloc[ : , :-1]\n",
    "    y = datafile['buggy']\n",
    "\n",
    "    pool = np.random.randint(0, 2, (poolSize, X.shape[1]))  \n",
    "    for iteration in range(iterations):\n",
    "        classifier = RandomForestClassifier()\n",
    "        rankedPop = rankPop(pool, X, y, classifier,'accuracy')\n",
    "#         print rankedPop\n",
    "        pool = []\n",
    "        pool = iteratePop(rankedPop)\n",
    "        \n",
    "    best_chromosome = rankPop(pool, X, y, classifier)[0][0]\n",
    "    return best_chromosome"
   ]
  },
  {
   "cell_type": "code",
   "execution_count": null,
   "metadata": {},
   "outputs": [],
   "source": [
    "datafile = 'dataset/dataset/camel-1.6.csv'\n",
    "print geneticAlgoFit(datafile)"
   ]
  },
  {
   "cell_type": "code",
   "execution_count": null,
   "metadata": {},
   "outputs": [],
   "source": [
    "directory = 'dataset/dataset'\n",
    "for projectName in os.listdir(directory):\n",
    "    print projectName\n",
    "    print geneticAlgoFit(datafile)\n"
   ]
  },
  {
   "cell_type": "code",
   "execution_count": null,
   "metadata": {},
   "outputs": [],
   "source": []
  },
  {
   "cell_type": "code",
   "execution_count": null,
   "metadata": {},
   "outputs": [],
   "source": []
  },
  {
   "cell_type": "code",
   "execution_count": null,
   "metadata": {},
   "outputs": [],
   "source": []
  }
 ],
 "metadata": {
  "kernelspec": {
   "display_name": "Python 2",
   "language": "python",
   "name": "python2"
  },
  "language_info": {
   "codemirror_mode": {
    "name": "ipython",
    "version": 2
   },
   "file_extension": ".py",
   "mimetype": "text/x-python",
   "name": "python",
   "nbconvert_exporter": "python",
   "pygments_lexer": "ipython2",
   "version": "2.7.13"
  }
 },
 "nbformat": 4,
 "nbformat_minor": 2
}
