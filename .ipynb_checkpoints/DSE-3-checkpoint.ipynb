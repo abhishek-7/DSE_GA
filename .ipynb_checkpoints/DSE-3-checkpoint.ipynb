{
 "cells": [
  {
   "cell_type": "code",
   "execution_count": 53,
   "metadata": {},
   "outputs": [],
   "source": [
    "import pandas as pd\n",
    "import numpy as np\n",
    "file1=pd.read_csv('C:/Users/DELL/Desktop/folder/workflow.csv')\n",
    "import os"
   ]
  },
  {
   "cell_type": "code",
   "execution_count": 9,
   "metadata": {},
   "outputs": [],
   "source": [
    "def f():\n",
    "    filename='zuzel.csv'\n",
    "    print filename\n",
    "    arr1=[]\n",
    "    arr2=[]\n",
    "    file1=pd.read_csv('C:/Users/DELL/Desktop/folder/'+filename)\n",
    "    mat=file1.as_matrix(columns=['Voting_Prediction','Voting_Prediction_Prob','AdaBoost_Prediction','AdaBoost_Prediction_Prob',\n",
    "                            'RandomForest_Prediction','RandomForest_Prediction_Prob'])\n",
    "    ensem=np.array(file1['Predicted Ensemble'])\n",
    "    for i in range(len(ensem)):\n",
    "        if ensem[i]=='Voting':\n",
    "            arr1.append(mat[i][0])\n",
    "            arr2.append(mat[i][1])\n",
    "        elif ensem[i]=='AdaBoost':\n",
    "            arr1.append(mat[i][2])\n",
    "            arr2.append(mat[i][3])\n",
    "        else:\n",
    "            arr1.append(mat[i][4])\n",
    "            arr2.append(mat[i][5])\n",
    "    file1['Bug Prediction']=arr1\n",
    "    file1['Bug Prediction Probability']=arr2\n",
    "    filetext=open('C:/Users/DELL/Desktop/Final2.txt','a')\n",
    "    filetext.write('\\n'+filename+','+str(metrics.precision_score(y_pred=arr1,y_true=np.array(file1['bug_binarized'])))+','+\n",
    "                   str(metrics.recall_score(y_pred=arr1,y_true=np.array(file1['bug_binarized'])))+','\n",
    "                   +str(metrics.accuracy_score(y_pred=arr1,y_true=np.array(file1['bug_binarized'])))+','\n",
    "                       +str(metrics.f1_score(y_pred=arr1,y_true=np.array(file1['bug_binarized'])))+','+\n",
    "                       str(metrics.roc_auc_score(y_score=arr2,y_true=np.array(file1['bug_binarized']))))\n",
    "    #file1.to_csv('C:/Users/DELL/Desktop/Hahaha-Final/'+filename)\n",
    "\n",
    "    "
   ]
  }
 ],
 "metadata": {
  "kernelspec": {
   "display_name": "Python 3",
   "language": "python",
   "name": "python3"
  },
  "language_info": {
   "codemirror_mode": {
    "name": "ipython",
    "version": 3
   },
   "file_extension": ".py",
   "mimetype": "text/x-python",
   "name": "python",
   "nbconvert_exporter": "python",
   "pygments_lexer": "ipython3",
   "version": "3.6.5"
  }
 },
 "nbformat": 4,
 "nbformat_minor": 2
}
