{
 "cells": [
  {
   "cell_type": "code",
   "execution_count": 95,
   "metadata": {},
   "outputs": [],
   "source": [
    "from sklearn import tree\n",
    "import pandas as pd\n",
    "import numpy as np\n",
    "dt=tree.DecisionTreeClassifier()\n",
    "import os\n",
    "from sklearn.neighbors import KNeighborsClassifier"
   ]
  },
  {
   "cell_type": "code",
   "execution_count": 93,
   "metadata": {},
   "outputs": [],
   "source": [
    "\n",
    "def f1():\n",
    "    filename='camel-1.6.csv'\n",
    "    print filename\n",
    "    file_no=3\n",
    "    file1=pd.read_csv('C:/Users/DELL/Desktop/folder/'+filename)\n",
    "    file2=pd.read_csv('C:/Users/DELL/Desktop/Final.csv')\n",
    "    f_measure=np.array(file2.iloc[:,5:-1])\n",
    "    auc_measure=np.array(file2.iloc[-1])\n",
    "    #print f_measure,auc_measure\n",
    "    mat=file1.as_matrix(columns=['bug_binarized','Voting_Prediction','AdaBoost_Prediction','RandomForest_Prediction'])\n",
    "    ensemble=[]\n",
    "    for i in range(len(mat)):\n",
    "        if mat[i][0]==mat[i][1] and mat[i][0]!=mat[i][2] and mat[i][0]!=mat[i][3]:\n",
    "            ensemble.append('Voting')\n",
    "        elif mat[i][0]==mat[i][2] and mat[i][0]!=mat[i][1] and mat[i][0]!=mat[i][3]:\n",
    "            ensemble.append('AdaBoost')\n",
    "        elif mat[i][0]==mat[i][3] and mat[i][0]!=mat[i][1] and mat[i][0]!=mat[i][2]:\n",
    "            ensemble.append('Random Forest')\n",
    "        else:\n",
    "            f1=f_measure[3*(file_no-1)]\n",
    "            f2=f_measure[3*(file_no-1)+1]\n",
    "            f3=f_measure[3*(file_no-1)+2]\n",
    "            print f1,f2,f3\n",
    "            flag=True\n",
    "            if f1>f2 and f1>f3:\n",
    "                ensemble.append('Voting')\n",
    "                flag=False\n",
    "            elif f2>f3 and f2>f1:\n",
    "                ensemble.append('AdaBoost')\n",
    "                flag=False\n",
    "            else:\n",
    "                ensemble.append('Random Forest')\n",
    "                flag=False\n",
    "        if flag==True:\n",
    "            p1=auc_measure[3*(file_no-1)]\n",
    "            p2=auc_measure[3*(file_no-1)+1]\n",
    "            p3=auc_measure[3*(file_no-1)+2]\n",
    "            \n",
    "            if p1>p2 and p1>p3:\n",
    "                ensemble.append('Voting')\n",
    "                flag=False\n",
    "            \n",
    "            elif p2>p3 and p2>p1:\n",
    "                ensemble.append('AdaBoost')\n",
    "                flag=False\n",
    "            \n",
    "            else:\n",
    "                ensemble.append('Random Forest')\n",
    "                flag=False\n",
    "        if flag==True:\n",
    "            ensemble.append('Voting')\n",
    "    file1['Ensemble to be selected']=ensemble\n",
    "    file1.to_csv('C:/Users/DELL/Desktop/fold/'+filename)\n",
    "    #print  file1.head(10)\n",
    "    "
   ]
  }
 ],
 "metadata": {
  "kernelspec": {
   "display_name": "Python 3",
   "language": "python",
   "name": "python3"
  },
  "language_info": {
   "codemirror_mode": {
    "name": "ipython",
    "version": 3
   },
   "file_extension": ".py",
   "mimetype": "text/x-python",
   "name": "python",
   "nbconvert_exporter": "python",
   "pygments_lexer": "ipython3",
   "version": "3.6.5"
  }
 },
 "nbformat": 4,
 "nbformat_minor": 2
}
