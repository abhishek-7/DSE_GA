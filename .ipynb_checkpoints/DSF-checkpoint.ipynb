{
 "cells": [
  {
   "cell_type": "code",
   "execution_count": 26,
   "metadata": {},
   "outputs": [],
   "source": [
    "import numpy as np\n",
    "import pandas as pd\n",
    "import os\n",
    "import math\n",
    "import random\n",
    "\n",
    "from sklearn.model_selection import train_test_split\n",
    "from sklearn.model_selection import KFold\n",
    "from sklearn.model_selection import cross_val_score\n",
    "from operator import itemgetter\n",
    "\n",
    "from sklearn import metrics\n",
    "from sklearn.metrics import precision_score\n",
    "from sklearn.metrics import roc_auc_score\n",
    "from sklearn.metrics import confusion_matrix\n",
    "from sklearn.metrics import recall_score\n",
    "from sklearn.metrics import accuracy_score\n",
    "from sklearn.metrics import f1_score\n",
    "\n",
    "from sklearn.ensemble import RandomForestClassifier\n"
   ]
  },
  {
   "cell_type": "code",
   "execution_count": 27,
   "metadata": {},
   "outputs": [],
   "source": [
    "mutationRate = 0.001\n",
    "crossOverRate = 0.06\n",
    "iterations = 10\n",
    "poolSize = 50"
   ]
  },
  {
   "cell_type": "code",
   "execution_count": 28,
   "metadata": {},
   "outputs": [],
   "source": [
    "#Defining functions for genetic algorithms\n",
    "\n",
    "def roulette(fitnessArray):\n",
    "    index = 0\n",
    "    cumalativeFitness = 0.0\n",
    "    r = random.random()\n",
    "    \n",
    "    for i in range(len(fitnessArray)):\n",
    "        cumalativeFitness += fitness[i]\n",
    "        if cumalativeFitness > r:\n",
    "            return i\n",
    "\n",
    "\n",
    "def selectFittest(fitness, rankedPool):\n",
    "    while True:\n",
    "        idx1 = roulette(fitness)\n",
    "        idx2 = roulette(fitness)\n",
    "        \n",
    "        if idx1 is None or idx2 is None:\n",
    "            continue\n",
    "        elif idx1==idx2:\n",
    "            continue\n",
    "        else:\n",
    "            break\n",
    "    \n",
    "    return rankedPool[idx1], rankedPool[idx2]\n",
    "\n",
    "def crossover(chromosome1, chromosome2):\n",
    "    randomSplitPoint = random.randint(1, len(chromosome1))\n",
    "    return chromosome1[:randomSplitPoint]+chromosome2[randomSplitPoint:], chromosome2[:randomSplitPoint]+chromosome1[randomSplitPoint:]\n",
    "\n",
    "\n",
    "def mutate(chromosome):\n",
    "\n",
    "    mutatedChrom = []\n",
    "    for ch in chromosome:\n",
    "        if random.random()<mutationRate:\n",
    "            if ch==1:\n",
    "                mutatedChrom.append(0)\n",
    "            else:\n",
    "                mutatedChrom.append(1)\n",
    "        else:\n",
    "            mutatedChrom.append(ch)\n",
    "    return mutatedChrom\n",
    "    \n",
    "def breed(chrome1, chrome2):\n",
    "    if random.random()<crossOverRate:\n",
    "        newChrome1, newChrome2 = crossover(chrome1, chrome2)\n",
    "    else:\n",
    "        newChrome1 = chrome1\n",
    "        newChrome2 = chrome2\n",
    "        \n",
    "    newChrome1 = mutate(newChrome1)\n",
    "    newChrome2 = mutate(newChrome2)\n",
    "    \n",
    "    return newChrome1, newChrome2"
   ]
  },
  {
   "cell_type": "code",
   "execution_count": 41,
   "metadata": {},
   "outputs": [],
   "source": [
    "def rankPop(pool, X, y, classifier,fitnessFunction):\n",
    "    scores = []\n",
    "    for chromosome in pool:\n",
    "        classifier = RandomForestClassifier\n",
    "        chosen_idx = [idx for gene, idx in zip(chromosome, range(X.shape[1])) if gene==1]\n",
    "        if len(chosen_idx)==0:\n",
    "            continue\n",
    "        chosenX = X.iloc[:, chosen_idx]\n",
    "        #performing leave-one out validation for instances less than 100\n",
    "        #and 10 fold validation for others\n",
    "        npoints = X.shape[0]\n",
    "   \n",
    "        if npoints <= 100:\n",
    "            kf = KFold(n_splits = npoints)\n",
    "        else:\n",
    "            kf = KFold(n_splits = 10)\n",
    "        \n",
    "        kf.get_n_splits(X)\n",
    "        classifier.fit(chosenX, y)\n",
    "        train_X = []\n",
    "        train_Y  = []\n",
    "        prediction   = []\n",
    "        if(fitnessFunction == 'f-measure'):\n",
    "            scores.append(f1_score(y, classifier.predict(chosenX)))\n",
    "        elif(fitnessFunction == 'g-mean'):\n",
    "            gScore = math.sqrt(precision_score(y, classifier.predict(chosenX))*recall_score(y, classifier.predict(chosenX)))\n",
    "            scores.append(gscore)\n",
    "        elif(fitnessFunction == 'auc'):\n",
    "            scores.append(accuracy_score(y, classifier.predict(chosenX)))\n",
    "        \n",
    "    fitness = [x/sum(scores) for x in scores]\n",
    "    pairedPop = zip(pool, fitness)\n",
    "    rankedPop = sorted(pairedPop, key=itemgetter(-1), reverse = True)\n",
    "    \n",
    "    return rankedPop"
   ]
  },
  {
   "cell_type": "code",
   "execution_count": 42,
   "metadata": {},
   "outputs": [],
   "source": [
    "def iteratePop(rankedPop):\n",
    "    fitness = [item[-1] for item in rankedPop]\n",
    "    rankedPool = [item[0] for item in rankedPop]\n",
    "   \n",
    "    new_pool = []\n",
    "    new_pool.extend(rankedPool[:poolSize/15])\n",
    "    \n",
    "    while(len(new_pool)<poolSize):\n",
    "        ch1, ch2 = selectFittest(fitness, rankedPool)\n",
    "        ch1, ch2 = breed(ch1, ch2)\n",
    "        \n",
    "        new_pool.append(ch1)\n",
    "        new_pool.append(ch2)\n",
    "    \n",
    "    return new_pool[:poolSize]"
   ]
  },
  {
   "cell_type": "code",
   "execution_count": 43,
   "metadata": {},
   "outputs": [],
   "source": [
    "def geneticAlgoFit(datafile):\n",
    "    datafile = pd.read_csv(datafile, dtype={'buggy':np.bool})\n",
    "    X     = datafile.iloc[ : , :-1]\n",
    "    y = datafile['buggy']\n",
    "\n",
    "    pool = np.random.randint(0, 2, (poolSize, X.shape[1]))  \n",
    "    for iteration in range(iterations):\n",
    "        classifier = RandomForestClassifier()\n",
    "        rankedPop = rankPop(pool, X, y, classifier,'auc')\n",
    "        print rankedPop\n",
    "        pool = []\n",
    "        pool = iteratePop(rankedPop)\n",
    "        \n",
    "    best_chromosome = rankPop(pool, X, y, classifier)[0][0]\n",
    "    return best_chromosome"
   ]
  },
  {
   "cell_type": "code",
   "execution_count": 44,
   "metadata": {},
   "outputs": [
    {
     "ename": "TypeError",
     "evalue": "unbound method fit() must be called with RandomForestClassifier instance as first argument (got DataFrame instance instead)",
     "output_type": "error",
     "traceback": [
      "\u001b[1;31m---------------------------------------------------------------------------\u001b[0m",
      "\u001b[1;31mTypeError\u001b[0m                                 Traceback (most recent call last)",
      "\u001b[1;32m<ipython-input-44-f3b638bd8e35>\u001b[0m in \u001b[0;36m<module>\u001b[1;34m()\u001b[0m\n\u001b[0;32m      1\u001b[0m \u001b[0mdatafile\u001b[0m \u001b[1;33m=\u001b[0m \u001b[1;34m'dataset/dataset/camel-1.6.csv'\u001b[0m\u001b[1;33m\u001b[0m\u001b[0m\n\u001b[1;32m----> 2\u001b[1;33m \u001b[1;32mprint\u001b[0m \u001b[0mgeneticAlgoFit\u001b[0m\u001b[1;33m(\u001b[0m\u001b[0mdatafile\u001b[0m\u001b[1;33m)\u001b[0m\u001b[1;33m\u001b[0m\u001b[0m\n\u001b[0m",
      "\u001b[1;32m<ipython-input-43-4860bf6474f4>\u001b[0m in \u001b[0;36mgeneticAlgoFit\u001b[1;34m(datafile)\u001b[0m\n\u001b[0;32m      7\u001b[0m     \u001b[1;32mfor\u001b[0m \u001b[0miteration\u001b[0m \u001b[1;32min\u001b[0m \u001b[0mrange\u001b[0m\u001b[1;33m(\u001b[0m\u001b[0miterations\u001b[0m\u001b[1;33m)\u001b[0m\u001b[1;33m:\u001b[0m\u001b[1;33m\u001b[0m\u001b[0m\n\u001b[0;32m      8\u001b[0m         \u001b[0mclassifier\u001b[0m \u001b[1;33m=\u001b[0m \u001b[0mRandomForestClassifier\u001b[0m\u001b[1;33m(\u001b[0m\u001b[1;33m)\u001b[0m\u001b[1;33m\u001b[0m\u001b[0m\n\u001b[1;32m----> 9\u001b[1;33m         \u001b[0mrankedPop\u001b[0m \u001b[1;33m=\u001b[0m \u001b[0mrankPop\u001b[0m\u001b[1;33m(\u001b[0m\u001b[0mpool\u001b[0m\u001b[1;33m,\u001b[0m \u001b[0mX\u001b[0m\u001b[1;33m,\u001b[0m \u001b[0my\u001b[0m\u001b[1;33m,\u001b[0m \u001b[0mclassifier\u001b[0m\u001b[1;33m,\u001b[0m\u001b[1;34m'auc'\u001b[0m\u001b[1;33m)\u001b[0m\u001b[1;33m\u001b[0m\u001b[0m\n\u001b[0m\u001b[0;32m     10\u001b[0m         \u001b[1;32mprint\u001b[0m \u001b[0mrankedPop\u001b[0m\u001b[1;33m\u001b[0m\u001b[0m\n\u001b[0;32m     11\u001b[0m         \u001b[0mpool\u001b[0m \u001b[1;33m=\u001b[0m \u001b[1;33m[\u001b[0m\u001b[1;33m]\u001b[0m\u001b[1;33m\u001b[0m\u001b[0m\n",
      "\u001b[1;32m<ipython-input-41-120a6e914cdc>\u001b[0m in \u001b[0;36mrankPop\u001b[1;34m(pool, X, y, classifier, fitnessFunction)\u001b[0m\n\u001b[0;32m      8\u001b[0m         \u001b[0mchosenX\u001b[0m \u001b[1;33m=\u001b[0m \u001b[0mX\u001b[0m\u001b[1;33m.\u001b[0m\u001b[0miloc\u001b[0m\u001b[1;33m[\u001b[0m\u001b[1;33m:\u001b[0m\u001b[1;33m,\u001b[0m \u001b[0mchosen_idx\u001b[0m\u001b[1;33m]\u001b[0m\u001b[1;33m\u001b[0m\u001b[0m\n\u001b[0;32m      9\u001b[0m \u001b[1;33m\u001b[0m\u001b[0m\n\u001b[1;32m---> 10\u001b[1;33m         \u001b[0mclassifier\u001b[0m\u001b[1;33m.\u001b[0m\u001b[0mfit\u001b[0m\u001b[1;33m(\u001b[0m\u001b[0mchosenX\u001b[0m\u001b[1;33m,\u001b[0m \u001b[0my\u001b[0m\u001b[1;33m)\u001b[0m\u001b[1;33m\u001b[0m\u001b[0m\n\u001b[0m\u001b[0;32m     11\u001b[0m         \u001b[1;32mif\u001b[0m\u001b[1;33m(\u001b[0m\u001b[0mfitnessFunction\u001b[0m \u001b[1;33m==\u001b[0m \u001b[1;34m'f-measure'\u001b[0m\u001b[1;33m)\u001b[0m\u001b[1;33m:\u001b[0m\u001b[1;33m\u001b[0m\u001b[0m\n\u001b[0;32m     12\u001b[0m             \u001b[0mscores\u001b[0m\u001b[1;33m.\u001b[0m\u001b[0mappend\u001b[0m\u001b[1;33m(\u001b[0m\u001b[0mf1_score\u001b[0m\u001b[1;33m(\u001b[0m\u001b[0my\u001b[0m\u001b[1;33m,\u001b[0m \u001b[0mclassifier\u001b[0m\u001b[1;33m.\u001b[0m\u001b[0mpredict\u001b[0m\u001b[1;33m(\u001b[0m\u001b[0mchosenX\u001b[0m\u001b[1;33m)\u001b[0m\u001b[1;33m)\u001b[0m\u001b[1;33m)\u001b[0m\u001b[1;33m\u001b[0m\u001b[0m\n",
      "\u001b[1;31mTypeError\u001b[0m: unbound method fit() must be called with RandomForestClassifier instance as first argument (got DataFrame instance instead)"
     ]
    }
   ],
   "source": [
    "datafile = 'dataset/dataset/camel-1.6.csv'\n",
    "print geneticAlgoFit(datafile)"
   ]
  },
  {
   "cell_type": "code",
   "execution_count": null,
   "metadata": {},
   "outputs": [],
   "source": []
  },
  {
   "cell_type": "code",
   "execution_count": null,
   "metadata": {},
   "outputs": [],
   "source": []
  },
  {
   "cell_type": "code",
   "execution_count": null,
   "metadata": {},
   "outputs": [],
   "source": []
  },
  {
   "cell_type": "code",
   "execution_count": null,
   "metadata": {},
   "outputs": [],
   "source": []
  }
 ],
 "metadata": {
  "kernelspec": {
   "display_name": "Python 2",
   "language": "python",
   "name": "python2"
  },
  "language_info": {
   "codemirror_mode": {
    "name": "ipython",
    "version": 2
   },
   "file_extension": ".py",
   "mimetype": "text/x-python",
   "name": "python",
   "nbconvert_exporter": "python",
   "pygments_lexer": "ipython2",
   "version": "2.7.13"
  }
 },
 "nbformat": 4,
 "nbformat_minor": 2
}
