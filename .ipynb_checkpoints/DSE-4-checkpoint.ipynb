{
 "cells": [
  {
   "cell_type": "code",
   "execution_count": 1,
   "metadata": {},
   "outputs": [
    {
     "name": "stdout",
     "output_type": "stream",
     "text": [
      "<bound method KFold.get_n_splits of KFold(n_splits=722, random_state=None, shuffle=False)>\n"
     ]
    }
   ],
   "source": [
    "import pandas as pd\n",
    "import numpy as np\n",
    "from sklearn.tree import DecisionTreeClassifier\n",
    "from sklearn.svm import SVC\n",
    "dt=DecisionTreeClassifier()\n",
    "file1=pd.read_csv('C:/Users/DELL/Desktop/fold/camel-1.6.csv')\n",
    "X=np.array(file1.iloc[:,1:-8])\n",
    "Y=file1['Ensemble to be selected']\n",
    "from sklearn.neighbors import KNeighborsClassifier\n",
    "from sklearn.model_selection import KFold\n",
    "from sklearn.metrics import accuracy_score,precision_score,roc_auc_score,recall_score,confusion_matrix,f1_score\n",
    "dt=KNeighborsClassifier(n_neighbors=1)\n",
    "kf=KFold(n_splits=file1.shape[0])\n",
    "print kf.get_n_splits"
   ]
  },
  {
   "cell_type": "code",
   "execution_count": null,
   "metadata": {},
   "outputs": [],
   "source": [
    "for filename in os.listdir('C:/Users/DELL/Desktop/fold/'):\n",
    "    print filename\n",
    "    \n",
    "    file1=pd.read_csv('C:/Users/DELL/Desktop/fold/'+filename)\n",
    "    X=np.array(file1.iloc[:,1:-8])\n",
    "    Y=np.array(file1.iloc[:,-1])\n",
    "    kf=KFold(n_splits=file1.shape[0])\n",
    "    kf.get_n_splits(X)\n",
    "    train=[]\n",
    "    test=[]\n",
    "    ans_arr=[]\n",
    "    arr_prob=[]\n",
    "    for train_index, test_index in kf.split(X):\n",
    "        dt=SVC()\n",
    "        for i in train_index:\n",
    "            train.append(X[i])\n",
    "            test.append(Y[i])\n",
    "        #print len(train),len(test)\n",
    "        dt.fit(train,test)\n",
    "        ans_arr.append(dt.predict(X[test_index])[0])\n",
    "        #arr_prob.append(dt.predict_proba(X[test_index]))\n",
    "        train=[]\n",
    "        test=[]\n",
    "    answer=[]\n",
    "    #print Y\n",
    "    ans_arr=list(ans_arr)\n",
    "    for i in range(len(arr_prob)):\n",
    "        answer.append(arr_prob)\n",
    "    file1['Predicted Ensemble']=ans_arr\n",
    "    file1.to_csv('C:/Users/DELL/Desktop/Hahaha/'+filename)\n",
    "    print accuracy_score(y_pred=ans_arr,y_true=Y)\n",
    "#    ,precision_score(y_pred=ans_arr,y_true=Y,average=None),recall_score(y_pred=ans_arr,y_true=Y,average='weighted'),f1_score(y_pred=ans_arr,y_true=Y,average='weighted'))#,y=ans_arr))\n"
   ]
  }
 ],
 "metadata": {
  "kernelspec": {
   "display_name": "Python 3",
   "language": "python",
   "name": "python3"
  },
  "language_info": {
   "codemirror_mode": {
    "name": "ipython",
    "version": 3
   },
   "file_extension": ".py",
   "mimetype": "text/x-python",
   "name": "python",
   "nbconvert_exporter": "python",
   "pygments_lexer": "ipython3",
   "version": "3.6.5"
  }
 },
 "nbformat": 4,
 "nbformat_minor": 2
}
