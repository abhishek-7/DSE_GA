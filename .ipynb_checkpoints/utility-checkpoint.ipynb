{
 "cells": [
  {
   "cell_type": "code",
   "execution_count": 21,
   "metadata": {},
   "outputs": [],
   "source": [
    "import pandas as pd\n",
    "import os\n",
    "directory = 'dataset/metrics/'\n",
    "g_mean = []\n",
    "auc = []\n",
    "for projectName in os.listdir(directory):\n",
    "    row1 = []\n",
    "    row2 = []\n",
    "    file = pd.read_csv(directory + projectName)\n",
    "    row1.append(projectName)\n",
    "    row2.append(projectName)\n",
    "    row1.extend(file.loc[2,'Voting':'AdaBoost'])\n",
    "    row2.extend(file.loc[5,'Voting':'AdaBoost'])\n",
    "#     row = row[:1]\n",
    "    auc.append(row1)\n",
    "    g_mean.append(row2)\n",
    "#     print(row.shape)\n",
    "aucFrame = pd.DataFrame(auc, columns = ['Project','Voting', 'RandomForest', 'AdaBoost'])\n",
    "gmeanFrame = pd.DataFrame(g_mean, columns = ['Project','Voting', 'RandomForest', 'AdaBoost'])\n",
    "\n",
    "aucFrame.to_csv('dataset/auc.csv',index = False)\n",
    "gmeanFrame.to_csv('dataset/gmean.csv',index = False)"
   ]
  },
  {
   "cell_type": "code",
   "execution_count": null,
   "metadata": {},
   "outputs": [],
   "source": []
  },
  {
   "cell_type": "code",
   "execution_count": null,
   "metadata": {},
   "outputs": [],
   "source": []
  }
 ],
 "metadata": {
  "kernelspec": {
   "display_name": "Python 3",
   "language": "python",
   "name": "python3"
  },
  "language_info": {
   "codemirror_mode": {
    "name": "ipython",
    "version": 3
   },
   "file_extension": ".py",
   "mimetype": "text/x-python",
   "name": "python",
   "nbconvert_exporter": "python",
   "pygments_lexer": "ipython3",
   "version": "3.6.5"
  }
 },
 "nbformat": 4,
 "nbformat_minor": 2
}
